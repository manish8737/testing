{
 "cells": [
  {
   "cell_type": "code",
   "execution_count": 1,
   "id": "910ea537-a8da-4eac-9652-4867652c6445",
   "metadata": {
    "tags": []
   },
   "outputs": [
    {
     "name": "stdout",
     "output_type": "stream",
     "text": [
      "Collecting requests-aws4auth\n",
      "  Downloading requests_aws4auth-1.2.3-py2.py3-none-any.whl (24 kB)\n",
      "Requirement already satisfied: requests in /home/ec2-user/anaconda3/envs/python3/lib/python3.10/site-packages (from requests-aws4auth) (2.31.0)\n",
      "Requirement already satisfied: six in /home/ec2-user/anaconda3/envs/python3/lib/python3.10/site-packages (from requests-aws4auth) (1.16.0)\n",
      "Requirement already satisfied: charset-normalizer<4,>=2 in /home/ec2-user/anaconda3/envs/python3/lib/python3.10/site-packages (from requests->requests-aws4auth) (3.3.1)\n",
      "Requirement already satisfied: idna<4,>=2.5 in /home/ec2-user/anaconda3/envs/python3/lib/python3.10/site-packages (from requests->requests-aws4auth) (3.4)\n",
      "Requirement already satisfied: urllib3<3,>=1.21.1 in /home/ec2-user/anaconda3/envs/python3/lib/python3.10/site-packages (from requests->requests-aws4auth) (1.26.18)\n",
      "Requirement already satisfied: certifi>=2017.4.17 in /home/ec2-user/anaconda3/envs/python3/lib/python3.10/site-packages (from requests->requests-aws4auth) (2023.7.22)\n",
      "Installing collected packages: requests-aws4auth\n",
      "Successfully installed requests-aws4auth-1.2.3\n"
     ]
    }
   ],
   "source": [
    "!pip install requests-aws4auth"
   ]
  },
  {
   "cell_type": "code",
   "execution_count": 2,
   "id": "be398271-a7ab-4f02-bcbb-0b4eedea2927",
   "metadata": {
    "tags": []
   },
   "outputs": [
    {
     "name": "stdout",
     "output_type": "stream",
     "text": [
      "Collecting opensearch-py==2.3.1\n",
      "  Downloading opensearch_py-2.3.1-py2.py3-none-any.whl.metadata (6.9 kB)\n",
      "Requirement already satisfied: urllib3<2,>=1.21.1 in /home/ec2-user/anaconda3/envs/python3/lib/python3.10/site-packages (from opensearch-py==2.3.1) (1.26.18)\n",
      "Requirement already satisfied: requests<3.0.0,>=2.4.0 in /home/ec2-user/anaconda3/envs/python3/lib/python3.10/site-packages (from opensearch-py==2.3.1) (2.31.0)\n",
      "Requirement already satisfied: six in /home/ec2-user/anaconda3/envs/python3/lib/python3.10/site-packages (from opensearch-py==2.3.1) (1.16.0)\n",
      "Requirement already satisfied: python-dateutil in /home/ec2-user/anaconda3/envs/python3/lib/python3.10/site-packages (from opensearch-py==2.3.1) (2.8.2)\n",
      "Requirement already satisfied: certifi>=2022.12.07 in /home/ec2-user/anaconda3/envs/python3/lib/python3.10/site-packages (from opensearch-py==2.3.1) (2023.7.22)\n",
      "Requirement already satisfied: charset-normalizer<4,>=2 in /home/ec2-user/anaconda3/envs/python3/lib/python3.10/site-packages (from requests<3.0.0,>=2.4.0->opensearch-py==2.3.1) (3.3.1)\n",
      "Requirement already satisfied: idna<4,>=2.5 in /home/ec2-user/anaconda3/envs/python3/lib/python3.10/site-packages (from requests<3.0.0,>=2.4.0->opensearch-py==2.3.1) (3.4)\n",
      "Downloading opensearch_py-2.3.1-py2.py3-none-any.whl (327 kB)\n",
      "\u001b[2K   \u001b[90m━━━━━━━━━━━━━━━━━━━━━━━━━━━━━━━━━━━━━━━━\u001b[0m \u001b[32m327.3/327.3 kB\u001b[0m \u001b[31m3.9 MB/s\u001b[0m eta \u001b[36m0:00:00\u001b[0mta \u001b[36m0:00:01\u001b[0m\n",
      "\u001b[?25hInstalling collected packages: opensearch-py\n",
      "Successfully installed opensearch-py-2.3.1\n"
     ]
    }
   ],
   "source": [
    "!pip install -U opensearch-py==2.3.1\n"
   ]
  },
  {
   "cell_type": "code",
   "execution_count": 3,
   "id": "9ed462ec-dc33-406f-a34d-6bc014c1442e",
   "metadata": {
    "tags": []
   },
   "outputs": [
    {
     "name": "stdout",
     "output_type": "stream",
     "text": [
      "Requirement already satisfied: boto3 in /home/ec2-user/anaconda3/envs/python3/lib/python3.10/site-packages (1.34.19)\n",
      "Requirement already satisfied: botocore<1.35.0,>=1.34.19 in /home/ec2-user/anaconda3/envs/python3/lib/python3.10/site-packages (from boto3) (1.34.19)\n",
      "Requirement already satisfied: jmespath<2.0.0,>=0.7.1 in /home/ec2-user/anaconda3/envs/python3/lib/python3.10/site-packages (from boto3) (1.0.1)\n",
      "Requirement already satisfied: s3transfer<0.11.0,>=0.10.0 in /home/ec2-user/anaconda3/envs/python3/lib/python3.10/site-packages (from boto3) (0.10.0)\n",
      "Requirement already satisfied: python-dateutil<3.0.0,>=2.1 in /home/ec2-user/anaconda3/envs/python3/lib/python3.10/site-packages (from botocore<1.35.0,>=1.34.19->boto3) (2.8.2)\n",
      "Requirement already satisfied: urllib3<2.1,>=1.25.4 in /home/ec2-user/anaconda3/envs/python3/lib/python3.10/site-packages (from botocore<1.35.0,>=1.34.19->boto3) (1.26.18)\n",
      "Requirement already satisfied: six>=1.5 in /home/ec2-user/anaconda3/envs/python3/lib/python3.10/site-packages (from python-dateutil<3.0.0,>=2.1->botocore<1.35.0,>=1.34.19->boto3) (1.16.0)\n"
     ]
    }
   ],
   "source": [
    "!pip install boto3\n"
   ]
  },
  {
   "cell_type": "code",
   "execution_count": 4,
   "id": "1e8b2361-ec0c-452c-95f1-a35c1dd72ae8",
   "metadata": {
    "tags": []
   },
   "outputs": [
    {
     "name": "stdout",
     "output_type": "stream",
     "text": [
      "Collecting retrying==1.3.4\n",
      "  Downloading retrying-1.3.4-py3-none-any.whl (11 kB)\n",
      "Requirement already satisfied: six>=1.7.0 in /home/ec2-user/anaconda3/envs/python3/lib/python3.10/site-packages (from retrying==1.3.4) (1.16.0)\n",
      "Installing collected packages: retrying\n",
      "Successfully installed retrying-1.3.4\n"
     ]
    }
   ],
   "source": [
    "!pip install -U retrying==1.3.4"
   ]
  },
  {
   "cell_type": "code",
   "execution_count": 5,
   "id": "5c210493-76c8-4c58-bfe2-2552303d6682",
   "metadata": {
    "tags": []
   },
   "outputs": [
    {
     "data": {
      "text/html": [
       "<script>Jupyter.notebook.kernel.restart()</script>"
      ],
      "text/plain": [
       "<IPython.core.display.HTML object>"
      ]
     },
     "execution_count": 5,
     "metadata": {},
     "output_type": "execute_result"
    }
   ],
   "source": [
    "# restart kernel\n",
    "from IPython.core.display import HTML\n",
    "HTML(\"<script>Jupyter.notebook.kernel.restart()</script>\")"
   ]
  },
  {
   "cell_type": "code",
   "execution_count": 6,
   "id": "89338682-edd2-442c-836e-98c04021cf86",
   "metadata": {
    "tags": []
   },
   "outputs": [],
   "source": [
    "import warnings\n",
    "warnings.filterwarnings('ignore')"
   ]
  },
  {
   "cell_type": "code",
   "execution_count": 7,
   "id": "494ef819-0122-48c7-9801-7d08d933e9a8",
   "metadata": {
    "tags": []
   },
   "outputs": [],
   "source": [
    "from opensearchpy import OpenSearch, RequestsHttpConnection\n",
    "from requests_aws4auth import AWS4Auth\n",
    "import boto3\n",
    "import botocore\n",
    "import time"
   ]
  },
  {
   "cell_type": "code",
   "execution_count": null,
   "id": "66838515-42af-4f44-a4e9-017d5662ad0b",
   "metadata": {},
   "outputs": [],
   "source": []
  },
  {
   "cell_type": "code",
   "execution_count": 8,
   "id": "72f2fb7e-07f8-4196-80c8-60784f4f47ef",
   "metadata": {
    "tags": []
   },
   "outputs": [],
   "source": [
    "import json\n",
    "import os\n",
    "import boto3\n",
    "import pprint\n",
    "#from utility import create_bedrock_execution_role, create_oss_policy_attach_bedrock_execution_role, create_policies_in_oss\n",
    "import random\n",
    "from retrying import retry\n",
    "suffix = random.randrange(200, 900)\n",
    "\n",
    "boto3_session = boto3.session.Session()\n",
    "region_name = boto3_session.region_name\n",
    "bedrock_agent_client = boto3_session.client('bedrock-agent', region_name=region_name)\n",
    "service = 'aoss'\n",
    "bucket_name = \"sagemaker-kb-910549846087\" # replace it with your bucket name.\n",
    "pp = pprint.PrettyPrinter(indent=2)"
   ]
  },
  {
   "cell_type": "markdown",
   "id": "2eda8d2b-5cba-4c61-b517-b753989533dd",
   "metadata": {
    "tags": []
   },
   "source": [
    "# Step 1 - Create OSS policies and collection and index "
   ]
  },
  {
   "cell_type": "code",
   "execution_count": null,
   "id": "0648d6ab-4a3f-44f1-89c7-b5178afcbd6a",
   "metadata": {},
   "outputs": [],
   "source": []
  },
  {
   "cell_type": "code",
   "execution_count": 9,
   "id": "9dfd47cb-9b92-424f-9f35-1ab81152b4e8",
   "metadata": {
    "tags": []
   },
   "outputs": [],
   "source": [
    "import boto3\n",
    "import time\n",
    "vector_store_name = \"sagemaker-kb\"\n",
    "index_name = \"sagemaker-readthedocs-io\"\n",
    "collection_name = \"sagemaker-kb\"\n",
    "aoss_client = boto3_session.client('opensearchserverless')\n",
    "bucket_name = 'sagemaker-kb-910549846087'\n",
    "#client = boto3_session.client('opensearchserverless')\n",
    "#service = 'aoss'\n",
    "#region = 'us-west-2'\n",
    "#bedrock_kb_execution_role = create_bedrock_execution_role(bucket_name=bucket_name)\n",
    "#bedrock_kb_execution_role_arn = bedrock_kb_execution_role['Role']['Arn']\n",
    "bedrock_kb_execution_role_arn = \"arn:aws:iam::910549846087:role/AmazonBedrockExecutionRoleForKnowledgeBase-sagemaker-kb\""
   ]
  },
  {
   "cell_type": "code",
   "execution_count": 11,
   "id": "77335f79-6f70-4692-a4e2-e13fac6862a0",
   "metadata": {
    "tags": []
   },
   "outputs": [],
   "source": [
    "collection_list= aoss_client.list_collections(\n",
    "    collectionFilters={\n",
    "        'name': \"sagemaker-kb\",\n",
    "        'status': 'ACTIVE'\n",
    "    }\n",
    ")"
   ]
  },
  {
   "cell_type": "code",
   "execution_count": 12,
   "id": "09333c0b-43e3-4fa7-9455-c4fd9a0dae1e",
   "metadata": {
    "tags": []
   },
   "outputs": [
    {
     "name": "stdout",
     "output_type": "stream",
     "text": [
      "[{'arn': 'arn:aws:aoss:us-west-2:910549846087:collection/o42y2myczijzx7y8yvyl', 'id': 'o42y2myczijzx7y8yvyl', 'name': 'sagemaker-kb', 'status': 'ACTIVE'}]\n",
      "o42y2myczijzx7y8yvyl\n"
     ]
    }
   ],
   "source": [
    "print(collection_list['collectionSummaries'])\n",
    "\n",
    "print(collection_list['collectionSummaries'][0]['id'])\n",
    "#print(collection_list)"
   ]
  },
  {
   "cell_type": "code",
   "execution_count": null,
   "id": "e05340c5-e725-4f09-9ff3-ddcac2803876",
   "metadata": {},
   "outputs": [],
   "source": []
  },
  {
   "cell_type": "code",
   "execution_count": 13,
   "id": "a0f17f6b-4dff-4954-973d-7a465155ef8e",
   "metadata": {
    "tags": []
   },
   "outputs": [
    {
     "name": "stdout",
     "output_type": "stream",
     "text": [
      "o42y2myczijzx7y8yvyl\n"
     ]
    }
   ],
   "source": [
    "collection_id = collection_list['collectionSummaries'][0]['id']\n",
    "print(collection_id)"
   ]
  },
  {
   "cell_type": "code",
   "execution_count": 14,
   "id": "1df1cc76-7a06-4583-85ca-b007dab51680",
   "metadata": {
    "tags": []
   },
   "outputs": [
    {
     "name": "stdout",
     "output_type": "stream",
     "text": [
      "o42y2myczijzx7y8yvyl.us-west-2.aoss.amazonaws.com\n"
     ]
    }
   ],
   "source": [
    "collection_id = collection_list['collectionSummaries'][0]['id']\n",
    "host = collection_id + '.' + region_name + '.aoss.amazonaws.com'\n",
    "print(host)"
   ]
  },
  {
   "cell_type": "code",
   "execution_count": 15,
   "id": "f7698303-7b21-4c04-bdaa-cb619cb015b6",
   "metadata": {
    "tags": []
   },
   "outputs": [],
   "source": [
    "from opensearchpy import OpenSearch, RequestsHttpConnection, AWSV4SignerAuth\n",
    "credentials = boto3.Session().get_credentials()\n",
    "awsauth = auth = AWSV4SignerAuth(credentials, region_name, service)\n",
    "\n",
    "index_name = index_name\n",
    "body_json = {\n",
    "   \"settings\": {\n",
    "      \"index.knn\": \"true\"\n",
    "   },\n",
    "   \"mappings\": {\n",
    "      \"properties\": {\n",
    "         \"vector\": {\n",
    "            \"type\": \"knn_vector\",\n",
    "            \"dimension\": 1536\n",
    "         },\n",
    "         \"text\": {\n",
    "            \"type\": \"text\"\n",
    "         },\n",
    "         \"text-metadata\": {\n",
    "            \"type\": \"text\"         }\n",
    "      }\n",
    "   }\n",
    "}\n",
    "# Build the OpenSearch client\n",
    "oss_client = OpenSearch(\n",
    "    hosts=[{'host': host, 'port': 443}],\n",
    "    http_auth=awsauth,\n",
    "    use_ssl=True,\n",
    "    verify_certs=True,\n",
    "    connection_class=RequestsHttpConnection,\n",
    "    timeout=300\n",
    ")\n",
    "# # It can take up to a minute for data access rules to be enforced\n",
    "time.sleep(60)"
   ]
  },
  {
   "cell_type": "code",
   "execution_count": 16,
   "id": "6a20cc9f-8db3-4ca0-90c9-a4c7cef9b6cf",
   "metadata": {
    "tags": []
   },
   "outputs": [
    {
     "name": "stdout",
     "output_type": "stream",
     "text": [
      "\n",
      "Creating index:\n",
      "{'acknowledged': True, 'shards_acknowledged': True, 'index': 'sagemaker-readthedocs-io'}\n"
     ]
    }
   ],
   "source": [
    "# Create index\n",
    "response = oss_client.indices.create(index=index_name, body=json.dumps(body_json))\n",
    "print('\\nCreating index:')\n",
    "print(response)"
   ]
  },
  {
   "cell_type": "markdown",
   "id": "74cb2496-c3be-4445-a0f5-0f4cc587b036",
   "metadata": {
    "tags": []
   },
   "source": [
    "# Step 2 - create knowledge base"
   ]
  },
  {
   "cell_type": "code",
   "execution_count": 45,
   "id": "3e585d50-3927-4885-88ce-36652dff19b5",
   "metadata": {
    "tags": []
   },
   "outputs": [],
   "source": [
    "opensearchServerlessConfiguration = {\n",
    "            \"collectionArn\": collection_list['collectionSummaries'][0]['arn'],\n",
    "            \"vectorIndexName\": index_name,\n",
    "            \"fieldMapping\": {\n",
    "                \"vectorField\": \"vector\",\n",
    "                \"textField\": \"text\",\n",
    "                \"metadataField\": \"text-metadata\"\n",
    "            }\n",
    "        }\n",
    "\n",
    "chunkingStrategyConfiguration = {\n",
    "    \"chunkingStrategy\": \"FIXED_SIZE\",\n",
    "    \"fixedSizeChunkingConfiguration\": {\n",
    "        \"maxTokens\": 512,\n",
    "        \"overlapPercentage\": 20\n",
    "    }\n",
    "}\n",
    "\n",
    "s3Configuration = {\n",
    "    \"bucketArn\": f\"arn:aws:s3:::{bucket_name}\",\n",
    "    # \"inclusionPrefixes\":[\"*.*\"] # you can use this if you want to create a KB using data within s3 prefixes.\n",
    "}\n",
    "\n",
    "embeddingModelArn = f\"arn:aws:bedrock:{region_name}::foundation-model/amazon.titan-embed-text-v1\"\n",
    "\n",
    "name = \"sagemaker-docs\"\n",
    "description = \"Amazon sagemaker letter knowledge base.\"\n",
    "roleArn = bedrock_kb_execution_role_arn\n"
   ]
  },
  {
   "cell_type": "code",
   "execution_count": 46,
   "id": "7222474a-a1a3-480a-ba1d-db3acd97ea7a",
   "metadata": {
    "tags": []
   },
   "outputs": [],
   "source": [
    "# Create a KnowledgeBase\n",
    "from retrying import retry\n",
    "\n",
    "@retry(wait_random_min=1000, wait_random_max=2000,stop_max_attempt_number=7)\n",
    "def create_knowledge_base_func():\n",
    "    create_kb_response = bedrock_agent_client.create_knowledge_base(\n",
    "        name = name,\n",
    "        description = description,\n",
    "        roleArn = roleArn,\n",
    "        knowledgeBaseConfiguration = {\n",
    "            \"type\": \"VECTOR\",\n",
    "            \"vectorKnowledgeBaseConfiguration\": {\n",
    "                \"embeddingModelArn\": embeddingModelArn\n",
    "            }\n",
    "        },\n",
    "        storageConfiguration = {\n",
    "            \"type\": \"OPENSEARCH_SERVERLESS\",\n",
    "            \"opensearchServerlessConfiguration\":opensearchServerlessConfiguration\n",
    "        }\n",
    "    )\n",
    "    return create_kb_response[\"knowledgeBase\"]\n",
    "try:\n",
    "    kb = create_knowledge_base_func()\n",
    "except Exception as err:\n",
    "    print(f\"{err=}, {type(err)=}\")"
   ]
  },
  {
   "cell_type": "code",
   "execution_count": 47,
   "id": "48c0f7a7-c26a-4c27-a30a-0287ee2138e8",
   "metadata": {
    "tags": []
   },
   "outputs": [
    {
     "name": "stdout",
     "output_type": "stream",
     "text": [
      "{ 'createdAt': datetime.datetime(2024, 1, 23, 9, 14, 49, 526873, tzinfo=tzlocal()),\n",
      "  'description': 'Amazon sagemaker letter knowledge base.',\n",
      "  'knowledgeBaseArn': 'arn:aws:bedrock:us-west-2:910549846087:knowledge-base/VUPUHF4EJJ',\n",
      "  'knowledgeBaseConfiguration': { 'type': 'VECTOR',\n",
      "                                  'vectorKnowledgeBaseConfiguration': { 'embeddingModelArn': 'arn:aws:bedrock:us-west-2::foundation-model/amazon.titan-embed-text-v1'}},\n",
      "  'knowledgeBaseId': 'VUPUHF4EJJ',\n",
      "  'name': 'sagemaker-docs',\n",
      "  'roleArn': 'arn:aws:iam::910549846087:role/AmazonBedrockExecutionRoleForKnowledgeBase-sagemaker-kb',\n",
      "  'status': 'CREATING',\n",
      "  'storageConfiguration': { 'opensearchServerlessConfiguration': { 'collectionArn': 'arn:aws:aoss:us-west-2:910549846087:collection/o42y2myczijzx7y8yvyl',\n",
      "                                                                   'fieldMapping': { 'metadataField': 'text-metadata',\n",
      "                                                                                     'textField': 'text',\n",
      "                                                                                     'vectorField': 'vector'},\n",
      "                                                                   'vectorIndexName': 'sagemaker-readthedocs-io'},\n",
      "                            'type': 'OPENSEARCH_SERVERLESS'},\n",
      "  'updatedAt': datetime.datetime(2024, 1, 23, 9, 14, 49, 526873, tzinfo=tzlocal())}\n"
     ]
    }
   ],
   "source": [
    "pp.pprint(kb)"
   ]
  },
  {
   "cell_type": "code",
   "execution_count": 48,
   "id": "bf760eff-8038-4821-89ee-ebe5664567c7",
   "metadata": {
    "tags": []
   },
   "outputs": [],
   "source": [
    "# Get KnowledgeBase \n",
    "get_kb_response = bedrock_agent_client.get_knowledge_base(knowledgeBaseId = kb['knowledgeBaseId'])"
   ]
  },
  {
   "cell_type": "code",
   "execution_count": 49,
   "id": "1d1657df-75dd-4420-aabc-7a21b8fd9190",
   "metadata": {
    "tags": []
   },
   "outputs": [
    {
     "name": "stdout",
     "output_type": "stream",
     "text": [
      "{ 'createdAt': datetime.datetime(2024, 1, 23, 9, 14, 52, 741945, tzinfo=tzlocal()),\n",
      "  'dataSourceConfiguration': { 's3Configuration': { 'bucketArn': 'arn:aws:s3:::sagemaker-kb-910549846087'},\n",
      "                               'type': 'S3'},\n",
      "  'dataSourceId': 'DEZEANVLUZ',\n",
      "  'description': 'Amazon sagemaker letter knowledge base.',\n",
      "  'knowledgeBaseId': 'VUPUHF4EJJ',\n",
      "  'name': 'sagemaker-docs-s3',\n",
      "  'status': 'AVAILABLE',\n",
      "  'updatedAt': datetime.datetime(2024, 1, 23, 9, 14, 52, 741945, tzinfo=tzlocal()),\n",
      "  'vectorIngestionConfiguration': { 'chunkingConfiguration': { 'chunkingStrategy': 'FIXED_SIZE',\n",
      "                                                               'fixedSizeChunkingConfiguration': { 'maxTokens': 512,\n",
      "                                                                                                   'overlapPercentage': 20}}}}\n"
     ]
    }
   ],
   "source": [
    "# Create a DataSource in KnowledgeBase\n",
    "data_source_name = \"sagemaker-docs-s3\"\n",
    "create_ds_response = bedrock_agent_client.create_data_source(\n",
    "    name = data_source_name,\n",
    "    description = description,\n",
    "    knowledgeBaseId = kb['knowledgeBaseId'],\n",
    "    dataSourceConfiguration = {\n",
    "        \"type\": \"S3\",\n",
    "        \"s3Configuration\":s3Configuration\n",
    "    },\n",
    "    vectorIngestionConfiguration = {\n",
    "        \"chunkingConfiguration\": chunkingStrategyConfiguration\n",
    "    }\n",
    ")\n",
    "ds = create_ds_response[\"dataSource\"]\n",
    "pp.pprint(ds)"
   ]
  },
  {
   "cell_type": "code",
   "execution_count": 50,
   "id": "c89f2db4-ac1d-492b-aa50-fb524bc40b46",
   "metadata": {
    "tags": []
   },
   "outputs": [
    {
     "data": {
      "text/plain": [
       "{'ResponseMetadata': {'RequestId': '291d5612-7a0c-48ea-9052-4e12a0c0699b',\n",
       "  'HTTPStatusCode': 200,\n",
       "  'HTTPHeaders': {'date': 'Tue, 23 Jan 2024 09:14:54 GMT',\n",
       "   'content-type': 'application/json',\n",
       "   'content-length': '547',\n",
       "   'connection': 'keep-alive',\n",
       "   'x-amzn-requestid': '291d5612-7a0c-48ea-9052-4e12a0c0699b',\n",
       "   'x-amz-apigw-id': 'R_F-OGZ4vHcEKDA=',\n",
       "   'x-amzn-trace-id': 'Root=1-65af838d-1a760eb21ac43b9f53b2fcd0'},\n",
       "  'RetryAttempts': 0},\n",
       " 'dataSource': {'knowledgeBaseId': 'VUPUHF4EJJ',\n",
       "  'dataSourceId': 'DEZEANVLUZ',\n",
       "  'name': 'sagemaker-docs-s3',\n",
       "  'status': 'AVAILABLE',\n",
       "  'description': 'Amazon sagemaker letter knowledge base.',\n",
       "  'dataSourceConfiguration': {'type': 'S3',\n",
       "   's3Configuration': {'bucketArn': 'arn:aws:s3:::sagemaker-kb-910549846087'}},\n",
       "  'vectorIngestionConfiguration': {'chunkingConfiguration': {'chunkingStrategy': 'FIXED_SIZE',\n",
       "    'fixedSizeChunkingConfiguration': {'maxTokens': 512,\n",
       "     'overlapPercentage': 20}}},\n",
       "  'createdAt': datetime.datetime(2024, 1, 23, 9, 14, 52, 741945, tzinfo=tzlocal()),\n",
       "  'updatedAt': datetime.datetime(2024, 1, 23, 9, 14, 52, 741945, tzinfo=tzlocal())}}"
      ]
     },
     "execution_count": 50,
     "metadata": {},
     "output_type": "execute_result"
    }
   ],
   "source": [
    "# Get DataSource \n",
    "bedrock_agent_client.get_data_source(knowledgeBaseId = kb['knowledgeBaseId'], dataSourceId = ds[\"dataSourceId\"])"
   ]
  },
  {
   "cell_type": "code",
   "execution_count": 51,
   "id": "434f6a60-7fc4-4fd9-a2c7-acfbe94eacae",
   "metadata": {
    "tags": []
   },
   "outputs": [],
   "source": [
    "# Start an ingestion job\n",
    "start_job_response = bedrock_agent_client.start_ingestion_job(knowledgeBaseId = kb['knowledgeBaseId'], dataSourceId = ds[\"dataSourceId\"])"
   ]
  },
  {
   "cell_type": "code",
   "execution_count": 52,
   "id": "8088c4bf-36ec-4f40-a66a-4c4f0fd056e1",
   "metadata": {
    "tags": []
   },
   "outputs": [
    {
     "name": "stdout",
     "output_type": "stream",
     "text": [
      "{ 'dataSourceId': 'DEZEANVLUZ',\n",
      "  'ingestionJobId': 'SBYQRUZOCZ',\n",
      "  'knowledgeBaseId': 'VUPUHF4EJJ',\n",
      "  'startedAt': datetime.datetime(2024, 1, 23, 9, 14, 55, 524313, tzinfo=tzlocal()),\n",
      "  'statistics': { 'numberOfDocumentsDeleted': 0,\n",
      "                  'numberOfDocumentsFailed': 0,\n",
      "                  'numberOfDocumentsScanned': 0,\n",
      "                  'numberOfModifiedDocumentsIndexed': 0,\n",
      "                  'numberOfNewDocumentsIndexed': 0},\n",
      "  'status': 'STARTING',\n",
      "  'updatedAt': datetime.datetime(2024, 1, 23, 9, 14, 55, 524313, tzinfo=tzlocal())}\n"
     ]
    }
   ],
   "source": [
    "job = start_job_response[\"ingestionJob\"]\n",
    "pp.pprint(job)"
   ]
  },
  {
   "cell_type": "code",
   "execution_count": 53,
   "id": "1ea916f4-0033-458b-9bb8-2e49d59cd199",
   "metadata": {
    "tags": []
   },
   "outputs": [
    {
     "name": "stdout",
     "output_type": "stream",
     "text": [
      "{ 'dataSourceId': 'DEZEANVLUZ',\n",
      "  'ingestionJobId': 'SBYQRUZOCZ',\n",
      "  'knowledgeBaseId': 'VUPUHF4EJJ',\n",
      "  'startedAt': datetime.datetime(2024, 1, 23, 9, 14, 55, 524313, tzinfo=tzlocal()),\n",
      "  'statistics': { 'numberOfDocumentsDeleted': 0,\n",
      "                  'numberOfDocumentsFailed': 0,\n",
      "                  'numberOfDocumentsScanned': 12,\n",
      "                  'numberOfModifiedDocumentsIndexed': 0,\n",
      "                  'numberOfNewDocumentsIndexed': 12},\n",
      "  'status': 'COMPLETE',\n",
      "  'updatedAt': datetime.datetime(2024, 1, 23, 9, 15, 19, 126518, tzinfo=tzlocal())}\n"
     ]
    }
   ],
   "source": [
    "# Get job \n",
    "while(job['status']!='COMPLETE' ):\n",
    "  get_job_response = bedrock_agent_client.get_ingestion_job(\n",
    "      knowledgeBaseId = kb['knowledgeBaseId'],\n",
    "        dataSourceId = ds[\"dataSourceId\"],\n",
    "        ingestionJobId = job[\"ingestionJobId\"]\n",
    "  )\n",
    "  job = get_job_response[\"ingestionJob\"]\n",
    "pp.pprint(job)\n",
    "time.sleep(40)"
   ]
  },
  {
   "cell_type": "code",
   "execution_count": 54,
   "id": "4a4c819a-4a55-4e37-9f46-3b65eab61bac",
   "metadata": {
    "tags": []
   },
   "outputs": [
    {
     "name": "stdout",
     "output_type": "stream",
     "text": [
      "'VUPUHF4EJJ'\n"
     ]
    }
   ],
   "source": [
    "kb_id = kb[\"knowledgeBaseId\"]\n",
    "pp.pprint(kb_id)"
   ]
  },
  {
   "cell_type": "code",
   "execution_count": 55,
   "id": "2562f014-fee7-4340-97ff-eef9494b66a9",
   "metadata": {
    "tags": []
   },
   "outputs": [
    {
     "name": "stdout",
     "output_type": "stream",
     "text": [
      "Stored 'kb_id' (str)\n"
     ]
    }
   ],
   "source": [
    "%store kb_id"
   ]
  },
  {
   "cell_type": "markdown",
   "id": "d3f4b246-b239-4860-b6a4-99f135b89016",
   "metadata": {},
   "source": [
    "## create agent "
   ]
  },
  {
   "cell_type": "code",
   "execution_count": 56,
   "id": "a264754e-988c-4251-b16e-7103f6c7f148",
   "metadata": {
    "tags": []
   },
   "outputs": [],
   "source": [
    "agent_name = \"sagemaker-qa\"\n",
    "foundation_model = \"anthropic.claude-v2\"\n",
    "instruction = \"You are a Q&A agent that politely answers question from a knowledge.\"\n",
    "\n",
    "\n"
   ]
  },
  {
   "cell_type": "code",
   "execution_count": 57,
   "id": "bce8881f-9766-4f56-81d5-62cb0742aeb3",
   "metadata": {
    "tags": []
   },
   "outputs": [],
   "source": [
    "agent_response = bedrock_agent_client.create_agent(\n",
    "    agentName=agent_name,\n",
    "    instruction=instruction,\n",
    "    foundationModel=foundation_model,\n",
    "    description='sagemaekr',\n",
    "    idleSessionTTLInSeconds=123,\n",
    "    agentResourceRoleArn=\"arn:aws:iam::910549846087:role/AmazonBedrockExecutionRoleForAgents_SageMakerQA\",\n",
    "    promptOverrideConfiguration={\n",
    "        'promptConfigurations': [\n",
    "            {\n",
    "                'promptType': 'KNOWLEDGE_BASE_RESPONSE_GENERATION',\n",
    "                'promptCreationMode': 'DEFAULT',\n",
    "                #'promptState': 'ENABLED',\n",
    "                #'basePromptTemplate': 'qa',\n",
    "                # 'inferenceConfiguration': {\n",
    "                #     'temperature': 0.5,\n",
    "                #     'topK': 10,\n",
    "                #     'maximumLength': 123,\n",
    "                #     'stopSequences': [\n",
    "                #         'string',\n",
    "                #     ]\n",
    "                # },\n",
    "                'parserMode': 'DEFAULT'\n",
    "            },\n",
    "        ],\n",
    "    }\n",
    ")\n",
    "time.sleep(7)"
   ]
  },
  {
   "cell_type": "code",
   "execution_count": 58,
   "id": "1b96cd94-0a23-487e-83c5-0e4b7e409670",
   "metadata": {
    "tags": []
   },
   "outputs": [
    {
     "name": "stdout",
     "output_type": "stream",
     "text": [
      "{'ResponseMetadata': {'RequestId': 'aa01c406-9b8d-404a-9799-364fa1b8d8cb', 'HTTPStatusCode': 202, 'HTTPHeaders': {'date': 'Tue, 23 Jan 2024 09:16:05 GMT', 'content-type': 'application/json', 'content-length': '2281', 'connection': 'keep-alive', 'x-amzn-requestid': 'aa01c406-9b8d-404a-9799-364fa1b8d8cb', 'x-amz-apigw-id': 'R_GJXH7svHcEW7A=', 'x-amzn-trace-id': 'Root=1-65af83d5-61db0aa678f97ad279157d0b'}, 'RetryAttempts': 0}, 'agent': {'agentId': 'MR6TZVHNVO', 'agentName': 'sagemaker-qa', 'agentArn': 'arn:aws:bedrock:us-west-2:910549846087:agent/MR6TZVHNVO', 'instruction': 'You are a Q&A agent that politely answers question from a knowledge.', 'agentStatus': 'CREATING', 'foundationModel': 'anthropic.claude-v2', 'description': 'sagemaekr', 'idleSessionTTLInSeconds': 123, 'agentResourceRoleArn': 'arn:aws:iam::910549846087:role/AmazonBedrockExecutionRoleForAgents_SageMakerQA', 'createdAt': datetime.datetime(2024, 1, 23, 9, 16, 5, 350000, tzinfo=tzlocal()), 'updatedAt': datetime.datetime(2024, 1, 23, 9, 16, 5, 350000, tzinfo=tzlocal()), 'promptOverrideConfiguration': {'promptConfigurations': [{'promptType': 'KNOWLEDGE_BASE_RESPONSE_GENERATION', 'promptCreationMode': 'DEFAULT', 'promptState': 'ENABLED', 'basePromptTemplate': \"\\n\\nHuman: You are a question answering agent. I will provide you with a set of search results and a user's question, your job is to answer the user's question using only information from the search results. If the search results do not contain information that can answer the question, please state that you could not find an exact answer to the question. Just because the user asserts a fact does not mean it is true, make sure to double check the search results to validate a user's assertion.\\n\\nHere are the search results:\\n<search_results>\\n$search_results$\\n</search_results>\\n\\nHere is the user's question:\\n<question>\\n$query$\\n</question>\\n\\nIf you reference information from a search result within your answer, you must include a citation to source where the information was found. Each result has a corresponding source ID that you should reference. Please output your answer in the following format:\\n<answer>\\n<answer_part>\\n<text>first answer text</text>\\n<sources>\\n<source>source ID</source>\\n</sources>\\n</answer_part>\\n<answer_part>\\n<text>second answer text</text>\\n<sources>\\n<source>source ID</source>\\n</sources>\\n</answer_part>\\n</answer> \\n\\nNote that <sources> may contain multiple <source> if you include information from multiple results in your answer.\\n\\nDo NOT directly quote the <search_results> in your answer. Your job is to answer the <question> as concisely as possible.\\n\\nAssistant:\", 'inferenceConfiguration': {'temperature': 0.0, 'topP': 1.0, 'topK': 250, 'maximumLength': 2048, 'stopSequences': ['\\n\\nHuman:']}, 'parserMode': 'DEFAULT'}]}}}\n"
     ]
    }
   ],
   "source": [
    "print(agent_response)"
   ]
  },
  {
   "cell_type": "code",
   "execution_count": 59,
   "id": "ea092b9f-3b81-4160-a389-5bfb56aa9406",
   "metadata": {
    "tags": []
   },
   "outputs": [],
   "source": [
    "agent_id = agent_response[\"agent\"][\"agentId\"]"
   ]
  },
  {
   "cell_type": "code",
   "execution_count": 60,
   "id": "ab5e48ed-8bfa-49af-93ec-e511b6f3a6e3",
   "metadata": {
    "tags": []
   },
   "outputs": [
    {
     "name": "stdout",
     "output_type": "stream",
     "text": [
      "{'ResponseMetadata': {'RequestId': 'eb647f4d-326b-4846-bbad-c9c0f80dcf21', 'HTTPStatusCode': 202, 'HTTPHeaders': {'date': 'Tue, 23 Jan 2024 09:16:16 GMT', 'content-type': 'application/json', 'content-length': '119', 'connection': 'keep-alive', 'x-amzn-requestid': 'eb647f4d-326b-4846-bbad-c9c0f80dcf21', 'x-amz-apigw-id': 'R_GLIESSPHcEp7A=', 'x-amzn-trace-id': 'Root=1-65af83e0-7ef5306b6d4e301537654c60'}, 'RetryAttempts': 0}, 'agentId': 'MR6TZVHNVO', 'agentStatus': 'PREPARING', 'agentVersion': 'DRAFT', 'preparedAt': datetime.datetime(2024, 1, 23, 9, 16, 16, 617442, tzinfo=tzlocal())}\n"
     ]
    }
   ],
   "source": [
    "prepare_agent_response = bedrock_agent_client.prepare_agent(\n",
    "    agentId=agent_id\n",
    ")\n",
    "print(prepare_agent_response)"
   ]
  },
  {
   "cell_type": "code",
   "execution_count": 61,
   "id": "37d4f828-e091-4258-a909-6890ec26c40c",
   "metadata": {
    "tags": []
   },
   "outputs": [
    {
     "name": "stdout",
     "output_type": "stream",
     "text": [
      "DRAFT\n"
     ]
    }
   ],
   "source": [
    "agent_version = prepare_agent_response['agentVersion']\n",
    "print(agent_version)"
   ]
  },
  {
   "cell_type": "code",
   "execution_count": 62,
   "id": "35f9aee0-3def-45fe-bd35-ddf4b2b69d1f",
   "metadata": {
    "tags": []
   },
   "outputs": [
    {
     "name": "stdout",
     "output_type": "stream",
     "text": [
      "{'ResponseMetadata': {'RequestId': '57d0c55e-0c5a-4a7f-b4cc-a00beeeced61', 'HTTPStatusCode': 200, 'HTTPHeaders': {'date': 'Tue, 23 Jan 2024 09:16:19 GMT', 'content-type': 'application/json', 'content-length': '204', 'connection': 'keep-alive', 'x-amzn-requestid': '57d0c55e-0c5a-4a7f-b4cc-a00beeeced61', 'x-amz-apigw-id': 'R_GLiGxDPHcEDlA=', 'x-amzn-trace-id': 'Root=1-65af83e3-243183a3522275c15359003c'}, 'RetryAttempts': 0}, 'knowledgeBaseSummaries': [{'knowledgeBaseId': 'VUPUHF4EJJ', 'name': 'sagemaker-docs', 'description': 'Amazon sagemaker letter knowledge base.', 'status': 'ACTIVE', 'updatedAt': datetime.datetime(2024, 1, 23, 9, 14, 49, 526873, tzinfo=tzlocal())}]}\n"
     ]
    }
   ],
   "source": [
    "knowledge_list_response = bedrock_agent_client.list_knowledge_bases(\n",
    "    maxResults=123\n",
    ")\n",
    "print(knowledge_list_response)"
   ]
  },
  {
   "cell_type": "code",
   "execution_count": 63,
   "id": "6d4cebb2-4f3e-4955-b3df-38375fd9ef9b",
   "metadata": {
    "tags": []
   },
   "outputs": [
    {
     "name": "stdout",
     "output_type": "stream",
     "text": [
      "{'ResponseMetadata': {'RequestId': 'a898d908-87f7-431d-9a6b-a358d435097d', 'HTTPStatusCode': 200, 'HTTPHeaders': {'date': 'Tue, 23 Jan 2024 09:16:21 GMT', 'content-type': 'application/json', 'content-length': '291', 'connection': 'keep-alive', 'x-amzn-requestid': 'a898d908-87f7-431d-9a6b-a358d435097d', 'x-amz-apigw-id': 'R_GL3EtgPHcEG5w=', 'x-amzn-trace-id': 'Root=1-65af83e5-505169ec3bd287060a7736a2'}, 'RetryAttempts': 0}, 'agentKnowledgeBase': {'knowledgeBaseId': 'VUPUHF4EJJ', 'description': 'Answer question about about Amazon sagemaker based only on information contained in knowledge base', 'createdAt': datetime.datetime(2024, 1, 23, 9, 16, 21, 291414, tzinfo=tzlocal()), 'updatedAt': datetime.datetime(2024, 1, 23, 9, 16, 21, 291414, tzinfo=tzlocal()), 'knowledgeBaseState': 'ENABLED'}}\n"
     ]
    }
   ],
   "source": [
    "add_knowledge_base_response = bedrock_agent_client.associate_agent_knowledge_base(\n",
    "    agentId=agent_id,\n",
    "    agentVersion=agent_version,\n",
    "    knowledgeBaseId=kb_id,\n",
    "    description='Answer question about about Amazon sagemaker based only on information contained in knowledge base',\n",
    "    knowledgeBaseState='ENABLED'\n",
    ")\n",
    "print(add_knowledge_base_response)\n",
    "time.sleep(10)"
   ]
  },
  {
   "cell_type": "code",
   "execution_count": 65,
   "id": "9b8176c3-fde1-4fe7-ab1d-f149204df823",
   "metadata": {
    "tags": []
   },
   "outputs": [
    {
     "name": "stdout",
     "output_type": "stream",
     "text": [
      "{'ResponseMetadata': {'RequestId': '8556c7ee-9c80-4404-ad8b-c5efc77b5454', 'HTTPStatusCode': 202, 'HTTPHeaders': {'date': 'Tue, 23 Jan 2024 09:16:49 GMT', 'content-type': 'application/json', 'content-length': '119', 'connection': 'keep-alive', 'x-amzn-requestid': '8556c7ee-9c80-4404-ad8b-c5efc77b5454', 'x-amz-apigw-id': 'R_GQPH1YvHcEXNA=', 'x-amzn-trace-id': 'Root=1-65af8401-6bfe7ad83ad6240421b1e08d'}, 'RetryAttempts': 0}, 'agentId': 'MR6TZVHNVO', 'agentStatus': 'PREPARING', 'agentVersion': 'DRAFT', 'preparedAt': datetime.datetime(2024, 1, 23, 9, 16, 49, 388795, tzinfo=tzlocal())}\n"
     ]
    }
   ],
   "source": [
    "prepare_agent_response = bedrock_agent_client.prepare_agent(\n",
    "    agentId=agent_id\n",
    ")\n",
    "print(prepare_agent_response)\n",
    "time.sleep(10)"
   ]
  },
  {
   "cell_type": "code",
   "execution_count": 66,
   "id": "449b5deb-fc91-4fd5-8e5d-1db2fc46d965",
   "metadata": {
    "tags": []
   },
   "outputs": [
    {
     "name": "stdout",
     "output_type": "stream",
     "text": [
      "{'ResponseMetadata': {'RequestId': '644c1fdf-5603-4ff2-bcb4-29ebfd40ef2f', 'HTTPStatusCode': 202, 'HTTPHeaders': {'date': 'Tue, 23 Jan 2024 09:17:09 GMT', 'content-type': 'application/json', 'content-length': '389', 'connection': 'keep-alive', 'x-amzn-requestid': '644c1fdf-5603-4ff2-bcb4-29ebfd40ef2f', 'x-amz-apigw-id': 'R_GTYFD0vHcEPfQ=', 'x-amzn-trace-id': 'Root=1-65af8415-747ec8f934f1b1a00f8ac213'}, 'RetryAttempts': 0}, 'agentAlias': {'agentId': 'MR6TZVHNVO', 'agentAliasId': '5AAANZVPEB', 'agentAliasName': 'Sagemaker-bedrock', 'agentAliasArn': 'arn:aws:bedrock:us-west-2:910549846087:agent-alias/MR6TZVHNVO/5AAANZVPEB', 'description': 'testing the agent via knowledge', 'routingConfiguration': [], 'createdAt': datetime.datetime(2024, 1, 23, 9, 17, 9, 451520, tzinfo=tzlocal()), 'updatedAt': datetime.datetime(2024, 1, 23, 9, 17, 9, 451520, tzinfo=tzlocal()), 'agentAliasStatus': 'CREATING'}}\n"
     ]
    }
   ],
   "source": [
    "agent_alias_name = \"Sagemaker-bedrock\"\n",
    "agent_alias_response = bedrock_agent_client.create_agent_alias(\n",
    "    agentId=agent_id,\n",
    "    agentAliasName=agent_alias_name,\n",
    "    description=\"testing the agent via knowledge\"\n",
    ")\n",
    "print(agent_alias_response)"
   ]
  },
  {
   "cell_type": "code",
   "execution_count": 67,
   "id": "9b7e0997-5c2a-4eb0-9ff2-c70240c72fb6",
   "metadata": {
    "tags": []
   },
   "outputs": [
    {
     "name": "stdout",
     "output_type": "stream",
     "text": [
      "5AAANZVPEB\n"
     ]
    }
   ],
   "source": [
    "print(agent_alias_response['agentAlias']['agentAliasId'])\n",
    "agent_alias_id = agent_alias_response['agentAlias']['agentAliasId']"
   ]
  },
  {
   "cell_type": "code",
   "execution_count": 68,
   "id": "5c730175-1bca-47d4-b21f-f32863875707",
   "metadata": {
    "tags": []
   },
   "outputs": [],
   "source": [
    "#bedrock_agent_invoke_client = boto3_session.client('bedrock', region_name=region_name)\n",
    "bedrock_agent_invoke_client = boto3_session.client('bedrock-agent-runtime',region_name=region_name)"
   ]
  },
  {
   "cell_type": "code",
   "execution_count": 69,
   "id": "fbeefcdb-7d75-431d-bdf0-b57ba4a88584",
   "metadata": {
    "tags": []
   },
   "outputs": [
    {
     "name": "stdout",
     "output_type": "stream",
     "text": [
      "MR6TZVHNVO 5AAANZVPEB\n"
     ]
    }
   ],
   "source": [
    "print(agent_id,agent_alias_id,)"
   ]
  },
  {
   "cell_type": "code",
   "execution_count": 43,
   "id": "165205f3-c188-417e-95e3-e89fdff1434d",
   "metadata": {
    "tags": []
   },
   "outputs": [
    {
     "name": "stdout",
     "output_type": "stream",
     "text": [
      "----------------------------------------------------------------------------------------\n",
      "The agent is ready to chat.\n",
      "Try asking for the date or time. Type 'exit' to quit.\n",
      "716a7731a96446c9be67987a1594e70a\n",
      "Agent: SageMaker is Amazon's managed service for building, training, and deploying machine learning models.\n"
     ]
    }
   ],
   "source": [
    "import uuid\n",
    "session_id = uuid.uuid4().hex\n",
    "\n",
    "def invoke_agent(prompt):\n",
    "    \"\"\"\n",
    "    Sends a prompt for the agent to process and respond to.\n",
    "\n",
    "    :param agent_id: The unique identifier of the agent to use.\n",
    "    :param agent_alias_id: The alias of the agent to use.\n",
    "    :param session_id: The unique identifier of the session. Use the same value across requests\n",
    "                       to continue the same conversation.\n",
    "    :param prompt: The prompt that you want Claude to complete.\n",
    "    :return: Inference response from the model.\n",
    "    \"\"\"\n",
    "\n",
    "    \n",
    "    response = bedrock_agent_invoke_client.invoke_agent(\n",
    "        agentId=agent_id,\n",
    "        agentAliasId=agent_alias_id,\n",
    "        sessionId=session_id,\n",
    "        inputText=prompt,\n",
    "    )\n",
    "\n",
    "    completion = \"\"\n",
    "\n",
    "    for event in response.get(\"completion\"):\n",
    "        chunk = event[\"chunk\"]\n",
    "        completion = completion + chunk[\"bytes\"].decode()\n",
    "\n",
    "    return completion\n",
    "\n",
    "def chat_with_agent(agent_alias):\n",
    "    print(\"-\" * 88)\n",
    "    print(\"The agent is ready to chat.\")\n",
    "    print(\"Try asking for the date or time. Type 'exit' to quit.\")\n",
    "\n",
    "    # Create a unique session ID for the conversation\n",
    "    session_id = uuid.uuid4().hex\n",
    "    print(session_id)\n",
    "    \n",
    "\n",
    "#     while True:\n",
    "#         prompt = q.ask(\"Prompt: \", q.non_empty)\n",
    "\n",
    "#         if prompt == \"exit\":\n",
    "#             break\n",
    "\n",
    "\n",
    "    response = invoke_agent(\"what is sagemaker\")\n",
    "\n",
    "    print(f\"Agent: {response}\")\n",
    "        \n",
    "\n",
    "chat_with_agent(agent_alias_id)"
   ]
  },
  {
   "cell_type": "markdown",
   "id": "52d4606d-7a2c-47c7-8903-efd2d2b0c3f1",
   "metadata": {},
   "source": [
    "## delete agent, alias and knowledge base"
   ]
  },
  {
   "cell_type": "code",
   "execution_count": 44,
   "id": "88fd5f28-8add-4cf0-b759-55236ad3381f",
   "metadata": {
    "tags": []
   },
   "outputs": [
    {
     "name": "stdout",
     "output_type": "stream",
     "text": [
      "Deleting agent alias...\n",
      "agent alias deleted\n",
      "--------------------------------------\n",
      "Deleting agent...\n",
      "------------------------------------------\n",
      "Deleting knowledge base\n",
      "knowledge base deleted\n"
     ]
    }
   ],
   "source": [
    "print(\"Deleting agent alias...\")\n",
    "delete_agent_alias_response = bedrock_agent_client.delete_agent_alias(\n",
    "    agentId=agent_id,\n",
    "    agentAliasId=agent_alias_id\n",
    ")\n",
    "\n",
    "print(\"agent alias deleted\")\n",
    "print(\"--------------------------------------\")\n",
    "print(\"Deleting agent...\")\n",
    "agent_status = bedrock_agent_client.delete_agent(agentId=agent_id)\n",
    "\n",
    "print(\"------------------------------------------\")\n",
    "print(\"Deleting knowledge base\")\n",
    "delete_kb_response = bedrock_agent_client.delete_knowledge_base(knowledgeBaseId=kb_id)\n",
    "print(\"knowledge base deleted\")"
   ]
  },
  {
   "cell_type": "code",
   "execution_count": null,
   "id": "ca37cc1e-b851-4790-b84b-2258e3985052",
   "metadata": {},
   "outputs": [],
   "source": []
  }
 ],
 "metadata": {
  "kernelspec": {
   "display_name": "conda_python3",
   "language": "python",
   "name": "conda_python3"
  },
  "language_info": {
   "codemirror_mode": {
    "name": "ipython",
    "version": 3
   },
   "file_extension": ".py",
   "mimetype": "text/x-python",
   "name": "python",
   "nbconvert_exporter": "python",
   "pygments_lexer": "ipython3",
   "version": "3.10.13"
  }
 },
 "nbformat": 4,
 "nbformat_minor": 5
}
